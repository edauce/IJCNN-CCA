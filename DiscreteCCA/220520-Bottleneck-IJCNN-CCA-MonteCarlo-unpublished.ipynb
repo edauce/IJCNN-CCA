{
 "cells": [
  {
   "cell_type": "code",
   "execution_count": 1,
   "metadata": {},
   "outputs": [],
   "source": [
    "from environment import Environment\n",
    "from discreteAgent import Agent\n",
    "from onlineTrainer_CCA_publish import OnlineTrainer as CCA_OnlineTrainer\n",
    "from onlineTrainer_Qlearning import OnlineTrainer as QL_OnlineTrainer\n",
    "import matplotlib.pyplot as plt\n",
    "import matplotlib.image as mpimg\n",
    "import numpy as np\n",
    "import math"
   ]
  },
  {
   "cell_type": "code",
   "execution_count": 2,
   "metadata": {},
   "outputs": [],
   "source": [
    "import json\n",
    "from easydict import EasyDict\n",
    "from datetime import date\n",
    "import os\n",
    "import torch"
   ]
  },
  {
   "cell_type": "markdown",
   "metadata": {},
   "source": [
    "# Environment Params"
   ]
  },
  {
   "cell_type": "code",
   "execution_count": 3,
   "metadata": {},
   "outputs": [],
   "source": [
    "args = EasyDict()\n",
    "args.ENV_NAME = 'Bottleneck' \n",
    "args.continuous=False"
   ]
  },
  {
   "cell_type": "code",
   "execution_count": 4,
   "metadata": {},
   "outputs": [],
   "source": [
    "env = Environment.bottleneck(initial_state_range=0)"
   ]
  },
  {
   "cell_type": "code",
   "execution_count": 5,
   "metadata": {},
   "outputs": [
    {
     "data": {
      "text/plain": [
       "18"
      ]
     },
     "execution_count": 5,
     "metadata": {},
     "output_type": "execute_result"
    }
   ],
   "source": [
    "env.N_obs"
   ]
  },
  {
   "cell_type": "code",
   "execution_count": 6,
   "metadata": {},
   "outputs": [
    {
     "name": "stderr",
     "output_type": "stream",
     "text": [
      "/usr/local/lib/python3.7/dist-packages/ipykernel_launcher.py:5: MatplotlibDeprecationWarning: Adding an axes using the same arguments as a previous axes currently reuses the earlier instance.  In a future version, a new instance will always be created and returned.  Meanwhile, this warning can be suppressed, and the future behavior ensured, by passing a unique label to each axes instance.\n",
      "  \"\"\"\n"
     ]
    },
    {
     "data": {
      "image/png": "[encoded data removed]",
      "text/plain": [
       "<Figure size 288x144 with 1 Axes>"
      ]
     },
     "metadata": {
      "needs_background": "light"
     },
     "output_type": "display_data"
    }
   ],
   "source": [
    "plt.figure(figsize = (4,2))\n",
    "plt.xlim(0,6)\n",
    "plt.ylim(0,3)\n",
    "\n",
    "ax = plt.subplot(1,1,1)\n",
    "for j in range(6):\n",
    "    for i in range(3):\n",
    "        ax.text(j+0.4,i+.65,str(1+6*i+j))\n",
    "ax.plot((3,3),(2,3),'k',linewidth=3)\n",
    "ax.plot((3,3),(0,1),'k',linewidth=3)\n",
    "ax.plot((0,6),(0,0),'k',linewidth=3)\n",
    "ax.plot((0,6),(3,3),'k',linewidth=3)\n",
    "ax.plot((0,0),(0,3),'k',linewidth=3)\n",
    "ax.plot((6,6),(0,3),'k',linewidth=3)\n",
    "\n",
    "ax.grid()\n",
    "ax.set_xticklabels(['','','','','',''])\n",
    "ax.set_yticklabels(['','',''])\n",
    "ax.invert_yaxis()\n"
   ]
  },
  {
   "cell_type": "markdown",
   "metadata": {},
   "source": [
    "# Trainer Params"
   ]
  },
  {
   "cell_type": "code",
   "execution_count": 26,
   "metadata": {},
   "outputs": [],
   "source": [
    "args.ALPHA = 0.03\n",
    "\n",
    "args.OBS_LEAK = args.ALPHA * 1/env.N_obs\n",
    "\n",
    "args.augmentation = True"
   ]
  },
  {
   "cell_type": "code",
   "execution_count": 27,
   "metadata": {},
   "outputs": [
    {
     "data": {
      "text/plain": [
       "(0.03, 0.0016666666666666666)"
      ]
     },
     "execution_count": 27,
     "metadata": {},
     "output_type": "execute_result"
    }
   ],
   "source": [
    "args.ALPHA, args.OBS_LEAK"
   ]
  },
  {
   "cell_type": "markdown",
   "metadata": {},
   "source": [
    "# Agent Params"
   ]
  },
  {
   "cell_type": "code",
   "execution_count": 28,
   "metadata": {},
   "outputs": [],
   "source": [
    "args.offPolicy = False\n",
    "\n",
    "args.GAMMA = 1\n",
    "args.HIST_HORIZON = 200 * int(1/args.OBS_LEAK)\n",
    "\n",
    "args.KL_centering = True\n",
    "args.rtg_centering = True\n",
    "\n",
    "args.explo_drive = True"
   ]
  },
  {
   "cell_type": "code",
   "execution_count": 29,
   "metadata": {},
   "outputs": [],
   "source": [
    "args.do_reward = True  \n",
    "verbose = False\n",
    "args.monte_carlo = True"
   ]
  },
  {
   "cell_type": "code",
   "execution_count": 30,
   "metadata": {},
   "outputs": [],
   "source": [
    "mem_Q_var = {}\n",
    "mem_Q_ref = {}\n",
    "mem_Q_KL = {}\n",
    "mem_obs_score = {}\n",
    "mem_p_eff = {}\n",
    "mem_KL = {}\n",
    "mem_total_reward = {}\n",
    "nb_visits_final = {}\n",
    "mem_obs_final = {}\n",
    "V = {}\n",
    "cpt = {}"
   ]
  },
  {
   "cell_type": "markdown",
   "metadata": {},
   "source": [
    "## TASK 1 : Uniform exploration"
   ]
  },
  {
   "cell_type": "code",
   "execution_count": 31,
   "metadata": {},
   "outputs": [],
   "source": [
    "N = 2000"
   ]
  },
  {
   "cell_type": "code",
   "execution_count": 32,
   "metadata": {},
   "outputs": [],
   "source": [
    "BETA_range = [1] \n",
    "args.PREC = 0\n",
    "\n",
    "mem_obs_final_T1 = []\n"
   ]
  },
  {
   "cell_type": "code",
   "execution_count": 33,
   "metadata": {
    "scrolled": true
   },
   "outputs": [
    {
     "name": "stdout",
     "output_type": "stream",
     "text": [
      "**TURN** 0\n",
      "0\n",
      "0.008310213508566614 0.006917937398241563\n",
      "0.5041606785735545 0.46128960018875376\n",
      "0.5830395603250862 0.5343230754263028\n",
      "0.12815798251556235 0.044446908776398245\n",
      "3.7140561976697617 3.5011536557071867\n",
      "0.9818736748020842 0.7665394216676629\n",
      "0.887286428706132 0.6109749787701697\n",
      "0.5546268973479526 0.2236277576698984\n",
      "1000\n",
      "0.010484117090712813 -0.3338952662575716\n",
      "2.8006369217006633 2.4400850379060652\n",
      "4.383479100723414 4.024005199551239\n",
      "1.8863567494334499 1.5127564871877053\n",
      "0.029800774765879858 -0.34889457595976314\n",
      "0.0018536161083984564 -0.37681180378158885\n",
      "0.14529146000897505 -0.16232262898724262\n",
      "1.413396905752427 1.1586428756328\n",
      "0.1348015448434944 -0.09765390139182062\n",
      "0.12181423222199024 -0.09004507159384505\n",
      "0.015519667903527263 -0.19578740215800797\n"
     ]
    }
   ],
   "source": [
    "for turn, BETA in enumerate(BETA_range):\n",
    "    print('**TURN**', turn)   \n",
    " \n",
    "    agent = Agent(env,\n",
    "                  ALPHA=args.ALPHA,\n",
    "                  GAMMA=args.GAMMA, # Episodic agent!\n",
    "                  BETA=BETA, \n",
    "                  PREC=args.PREC,\n",
    "                  do_reward=args.do_reward) \n",
    "    trainer = CCA_OnlineTrainer( agent, \n",
    "                            augmentation=args.augmentation,\n",
    "                            OBS_LEAK=args.OBS_LEAK,\n",
    "                            ref_prob='unif',\n",
    "                            KL_centering=args.KL_centering,\n",
    "                            rtg_centering=args.rtg_centering,\n",
    "                            monte_carlo=args.monte_carlo,\n",
    "                            explo_drive=args.explo_drive) \n",
    "    \n",
    "   \n",
    "    mem_obs_final_T1.append(None)\n",
    "    \n",
    "    \n",
    "    for trial in range(N):\n",
    "        trainer.run_episode(verbose=verbose)\n",
    "       \n",
    "        if trial%1000 == 0:\n",
    "            print(trial)\n",
    "        \n",
    "    mem_obs_final_T1[turn] = trainer.mem_obs_final\n",
    "    "
   ]
  },
  {
   "cell_type": "code",
   "execution_count": 34,
   "metadata": {},
   "outputs": [],
   "source": [
    "bloc_1 =  np.array(mem_obs_final_T1[0][:250])+1\n",
    "bloc_2 =  np.array(mem_obs_final_T1[0][1000:2000])+1\n",
    "nb_visits_1 = []\n",
    "nb_visits_2 = []\n",
    "for s in range(18):\n",
    "    nb_visits_1.append(np.sum(bloc_1 == s+1))\n",
    "    nb_visits_2.append(np.sum(bloc_2 == s+1))\n",
    "    "
   ]
  },
  {
   "cell_type": "code",
   "execution_count": 35,
   "metadata": {},
   "outputs": [
    {
     "data": {
      "text/plain": [
       "Text(-2.5, 0.13, 'e')"
      ]
     },
     "execution_count": 35,
     "metadata": {},
     "output_type": "execute_result"
    },
    {
     "data": {
      "image/png": "[encoded data removed]",
      "text/plain": [
       "<Figure size 576x432 with 5 Axes>"
      ]
     },
     "metadata": {
      "needs_background": "light"
     },
     "output_type": "display_data"
    }
   ],
   "source": [
    "plt.figure(figsize = (8,6))\n",
    "\n",
    "ax = plt.subplot(3,2,1)\n",
    "img = mpimg.imread('env-1.png')\n",
    "ax.imshow(img)\n",
    "ax.set_title('Environment', fontsize=14)\n",
    "ax.set_xticks([])\n",
    "ax.set_yticks([])\n",
    "ax.text(-50, 0, 'a', fontsize=16, fontweight =\"bold\")\n",
    "\n",
    "\n",
    "ax = plt.subplot(3,2,2)\n",
    "\n",
    "ax.set_xlim(0,6)\n",
    "ax.set_ylim(0,3)\n",
    "for j in range(6):\n",
    "    for i in range(3):\n",
    "        ax.text(j+0.4,i+.65,str(1+6*i+j))\n",
    "ax.plot((3,3),(2,3),'k',linewidth=3)\n",
    "ax.plot((3,3),(0,1),'k',linewidth=3)\n",
    "ax.plot((0,6),(0,0),'k',linewidth=3)\n",
    "ax.plot((0,6),(3,3),'k',linewidth=3)\n",
    "ax.plot((0,0),(0,3),'k',linewidth=3)\n",
    "ax.plot((6,6),(0,3),'k',linewidth=3)\n",
    "\n",
    "ax.grid()\n",
    "ax.set_xticklabels(['','','','','',''])\n",
    "ax.set_yticklabels(['','',''])\n",
    "ax.invert_yaxis()\n",
    "ax.set_title('States', fontsize=14)\n",
    "ax.text(-0.5, 0, 'b', fontsize=16, fontweight =\"bold\")\n",
    "\n",
    "\n",
    "\n",
    "  \n",
    "ax = plt.subplot(3,1,2)\n",
    "ax.plot(np.array(mem_obs_final_T1[0])+1, '.', alpha=.5)\n",
    "ax.set_xlim(0,1250)\n",
    "ax.set_ylim(0,19)\n",
    "ax.set_yticks([2,4,6,8,10,12,14,16,18])\n",
    "ax.set_xticks([1, 2000])\n",
    "ax.text(960, -3, 'trial #', fontsize=12)    \n",
    "ax.set_ylabel('Final state', fontsize=14)\n",
    "ax.plot([1,250],[0.5,0.5],'r--',linewidth=3)\n",
    "ax.plot([1,250],[18.5,18.5],'r--',linewidth=3)\n",
    "ax.plot([1,1],[0.5,18.5],'r--',linewidth=3)\n",
    "ax.plot([250,250],[0.5,18.5],'r--',linewidth=3)\n",
    "ax.plot([1001,2000],[0.5,0.5],'r--',linewidth=3)\n",
    "ax.plot([1001,2000],[18.5,18.5],'r--',linewidth=3)\n",
    "ax.plot([1001,1001],[0.5,18.5],'r--',linewidth=3)\n",
    "ax.plot([2000,2000],[0.5,18.5],'r--',linewidth=3)\n",
    "#ax.text(539, 19.5, 'CCA, $\\lambda=0$', fontsize=14)\n",
    "ax.yaxis.tick_right()\n",
    "ax.yaxis.set_label_position(\"right\")\n",
    "ax.text(-60, 17.5, 'c', fontsize=16, fontweight =\"bold\")\n",
    "\n",
    "\n",
    "\n",
    "ax = plt.subplot(3,2,5)\n",
    "ax.bar(range(1,19), np.array(nb_visits_1)/250)\n",
    "ax.set_xticks(range(2,19,2))\n",
    "ax.set_xlabel('Final states', fontsize=14)\n",
    "ax.set_ylim([0,0.17]) #yscale('log') #\n",
    "ax.text(6, 0.14, 'trials < 250', fontsize=14)\n",
    "ax.set_yticks([])\n",
    "ax.text(-2.5, 0.13, 'd', fontsize=16, fontweight =\"bold\")\n",
    "\n",
    "\n",
    "ax = plt.subplot(3,2,6)\n",
    "ax.bar(range(1,19), np.array(nb_visits_2)/1000)\n",
    "ax.set_xticks(range(2,19,2))\n",
    "ax.set_xlabel('Final states', fontsize=14)\n",
    "ax.set_ylim([0,0.17]) #yscale('log') #\n",
    "ax.text(5, 0.14,'trials > 1000', fontsize=14)\n",
    "ax.set_ylabel('Visit density', fontsize=14)\n",
    "ax.yaxis.set_label_position(\"right\")\n",
    "ax.yaxis.tick_right()\n",
    "ax.text(-2.5, 0.13, 'e', fontsize=16, fontweight =\"bold\")\n",
    "\n",
    "#plt.savefig('220520_cca_T1.pdf', bbox_inches='tight')\n"
   ]
  },
  {
   "cell_type": "markdown",
   "metadata": {},
   "source": [
    "## TASK 2 : Reward maximization"
   ]
  },
  {
   "cell_type": "code",
   "execution_count": 36,
   "metadata": {},
   "outputs": [],
   "source": [
    "N = 5000"
   ]
  },
  {
   "cell_type": "code",
   "execution_count": 37,
   "metadata": {},
   "outputs": [],
   "source": [
    "BETA_REF = 100\n",
    "BETA_range = [BETA_REF] * 10\n",
    "args.PREC = 10 / BETA_REF\n",
    "\n",
    "mem_total_reward_T2 = []\n",
    "mem_obs_final_T2 = []\n",
    "\n"
   ]
  },
  {
   "cell_type": "code",
   "execution_count": 38,
   "metadata": {},
   "outputs": [
    {
     "data": {
      "text/plain": [
       "(0.03, 0.1, 0.0016666666666666666)"
      ]
     },
     "execution_count": 38,
     "metadata": {},
     "output_type": "execute_result"
    }
   ],
   "source": [
    "args.ALPHA, args.PREC, args.OBS_LEAK"
   ]
  },
  {
   "cell_type": "code",
   "execution_count": 39,
   "metadata": {
    "scrolled": true
   },
   "outputs": [
    {
     "name": "stdout",
     "output_type": "stream",
     "text": [
      "**TURN** 0\n",
      "0\n",
      "3.0373989616113274e-09 -5.377092479646712e-07\n",
      "2.78504069673037e-07 -3.6360488558054514e-07\n",
      "9.815553508213008e-06 7.79948789532527e-06\n",
      "4.16480055798449e-06 1.1385330336596155e-06\n",
      "1.1095144000504803e-06 -3.970171204787505e-06\n",
      "6.167346377263956e-06 -1.6593869906137636e-06\n",
      "1.9947411386946515e-07 -8.934998344239238e-06\n",
      "3.6733595322386035e-05 2.7140800503565603e-05\n",
      "6.66777281679033e-05 5.4528498437803825e-05\n",
      "1.775607730098365e-05 9.443607447296491e-06\n",
      "1000\n",
      "3.761702918968364e-06 -1.960088319239267e-06\n",
      "1.7968737224682213e-06 -3.31887089776928e-06\n",
      "6.109887074138784e-07 -4.634745912781592e-06\n",
      "2000\n",
      "2.6497277832830726e-07 -5.567273389902854e-06\n",
      "7.805412749307179e-05 7.171482750230955e-05\n",
      "1.4571767165977012e-06 -4.262738067638128e-06\n",
      "2.3824618299770203e-06 -3.1079038658787724e-06\n",
      "2.580094886866941e-05 1.9697687157562173e-05\n",
      "9.458427766454869e-06 4.981603672334103e-06\n",
      "2.9997444001724453e-06 -1.265203497876727e-06\n",
      "2.4474849455352836e-07 -3.909461028201651e-06\n",
      "5.87015459765897e-09 -4.2566694863234996e-06\n",
      "6.303019023750441e-06 -2.9296896100210474e-06\n",
      "3000\n",
      "2.147350125859137e-05 1.1653589533068545e-05\n",
      "1.4621508741234055e-06 -6.390201776669748e-06\n",
      "8.104731849356337e-07 -6.812371583927304e-06\n",
      "8.25139420845263e-06 -7.49360632151049e-06\n",
      "8.292887498760142e-08 -1.675504068560674e-05\n",
      "2.3113638385674156e-07 -1.66925951300858e-05\n",
      "6.3271087814230925e-06 -1.2070763291336976e-05\n",
      "2.4506982766480938e-08 -1.5305897372145315e-05\n",
      "4000\n",
      "1.4252057740098052e-05 6.359544617225312e-07\n",
      "2.1469823246765087e-05 7.930392867514052e-06\n",
      "1.912719049374184e-07 -1.3304152492149845e-05\n",
      "9.425254435986865e-11 -1.3555061113522674e-05\n",
      "2.664794610819357e-06 -1.6328684028482565e-05\n",
      "3.135860737247865e-05 1.014244851545729e-05\n",
      "2.1308675219135318e-05 -2.4520352319567356e-06\n",
      "**TURN** 1\n",
      "0\n",
      "1.5586206148666423e-08 -1.2696695297620448e-08\n",
      "2.909693670625232e-07 -2.454881970002455e-07\n",
      "5.47687912724438e-06 4.744042974630323e-06\n",
      "1.3269353373801335e-06 -1.8013872263177933e-06\n",
      "3.361042290994361e-07 -3.1336158664301764e-06\n",
      "2.4028372648220555e-08 -9.355580822139024e-06\n",
      "0.00018893782235585794 0.00017932937156084472\n",
      "1.1206451665600273e-05 1.2461937592761234e-06\n",
      "1.9447902427894295e-05 9.37403309751473e-06\n",
      "1.3496546294511332e-05 1.6747353525506457e-06\n",
      "3.1143848025571785e-05 1.7444882691760597e-05\n",
      "2.9520090744785193e-05 1.578693032532637e-05\n",
      "0.00012077904933536345 0.00010691271330101943\n",
      "4.1047473236616146e-06 -8.946011754879131e-06\n",
      "1000\n",
      "1.3890087574681201e-05 2.139439971539213e-06\n",
      "8.714152730852159e-06 -2.7733080340584744e-06\n",
      "1.6893567753974214e-07 -1.1044015184519928e-05\n",
      "6.572616830981554e-06 2.3765329664783224e-09\n",
      "2.394801823606609e-05 1.7286243760445673e-05\n",
      "3.128957712216668e-06 -3.24427945578057e-06\n",
      "1.1881056443233959e-05 5.510192322568966e-06\n",
      "1.911801988633466e-07 -5.988478565335e-06\n",
      "8.529363343242841e-07 -5.933767207012036e-06\n",
      "2000\n",
      "5.704716569588348e-05 4.465353457357777e-05\n",
      "6.302179056848679e-07 -1.1206817499825235e-05\n",
      "1.245146445113094e-05 2.432250160338421e-07\n",
      "8.787325390243074e-06 -6.562431356544384e-06\n",
      "3000\n",
      "6.294059057413849e-05 4.4999205876023105e-05\n",
      "1.2951586094145652e-06 -1.4047746286314058e-05\n",
      "9.94254379938257e-07 -1.3946768404852737e-05\n",
      "4.870166234416163e-06 -9.466289837437139e-06\n",
      "2.53865571616037e-05 9.927990031622979e-06\n",
      "1.8579898866337854e-06 -1.3482590577905238e-05\n",
      "2.3130394896192665e-07 -2.452470671224262e-05\n",
      "4.4269411571443955e-08 -2.3087390136373966e-05\n",
      "5.7164984125545586e-05 3.095169680755111e-05\n",
      "2.113788989849266e-07 -2.56281817774996e-05\n",
      "7.142033484185532e-07 -2.5593453485206987e-05\n",
      "4000\n",
      "2.942654589710636e-06 -3.0978748816947685e-05\n",
      "1.5468361395650264e-10 -2.96277649805229e-05\n",
      "3.534576755947562e-06 -2.5262137258045238e-05\n",
      "6.874335054195003e-07 -2.7422270449771068e-05\n",
      "**TURN** 2\n",
      "0\n",
      "1.1610622184232129e-08 -4.515417702300599e-08\n",
      "1.3493779422307707e-05 1.210563463363404e-05\n",
      "1.7921900154151087e-08 -3.844225590595125e-06\n",
      "7.234842262065098e-06 1.6269556532984273e-06\n",
      "0.00016701385214456775 0.0001566828853977157\n",
      "7.250261181922569e-05 6.333542387486766e-05\n",
      "6.208421904375537e-05 5.327535815981385e-05\n",
      "8.059565678123792e-07 -7.827501474289416e-06\n",
      "4.100948866876453e-05 3.290522849727388e-05\n",
      "1.1379225451182815e-06 -5.603433380277757e-06\n",
      "1000\n",
      "4.6292011647464084e-05 3.989813556079396e-05\n",
      "5.353086620407647e-06 4.187046062633221e-07\n",
      "0.0001531457701709795 0.00014412150348216312\n",
      "2000\n",
      "7.79207995929987e-08 -7.255207688761313e-06\n",
      "4.53364330583322e-07 -1.1854595255715748e-05\n",
      "1.1806944934495475e-08 -1.4598040073364552e-05\n",
      "2.295292781466524e-05 7.39743039991384e-06\n",
      "1.3679115801148388e-05 1.5501559337777788e-07\n",
      "3000\n",
      "1.1020096593321403e-05 -2.2368721420551e-06\n",
      "9.530976815503342e-08 -1.3122761533488114e-05\n",
      "7.687631735940814e-06 -5.216767814451442e-06\n",
      "5.315064257639394e-08 -1.2693666542333385e-05\n",
      "2.702273293848324e-06 -1.0876982411762531e-05\n",
      "3.5624498412968397e-07 -1.316706280554107e-05\n",
      "3.677746008825537e-05 6.9210511932706685e-06\n",
      "7.375490753128353e-05 3.727091553678506e-05\n",
      "3.960344119712929e-05 5.223275172419655e-06\n",
      "4000\n",
      "9.57365817699573e-07 -2.8842460474323174e-05\n",
      "5.388719539634331e-06 -2.4112816192435824e-05\n",
      "7.187542079614983e-06 -3.3258125338102994e-05\n",
      "2.4957344735266102e-05 -2.1516845362573016e-05\n",
      "5.0198924785508266e-08 -4.8158151422474727e-05\n",
      "**TURN** 3\n",
      "0\n",
      "2.481414719600245e-07 1.1001183627411909e-07\n",
      "6.169544943486295e-07 4.076562906703425e-07\n",
      "1.5161890752147638e-05 1.3696587751887042e-05\n",
      "2.22381090656064e-06 -9.274210923322318e-07\n",
      "2.1741805644286064e-06 -3.667102735391938e-06\n",
      "4.061148653721398e-05 3.4055941726360425e-05\n",
      "0.0001822006379315094 0.00016721491959028183\n",
      "1.1908560424944984e-07 -1.2626806994156714e-05\n",
      "1000\n",
      "1.4631340091648143e-05 6.291799517363593e-06\n",
      "1.3636054178478945e-05 5.642826518091211e-06\n",
      "2.2959519296131105e-05 1.6738614350060354e-05\n",
      "7.447400438873463e-05 6.80666904672326e-05\n",
      "4.376450544772669e-05 3.768753984678158e-05\n",
      "6.5933124244080355e-06 1.2740024937125585e-06\n",
      "4.634664240319501e-07 -7.994278960140117e-06\n",
      "3.1498811374349855e-06 -5.114765492541453e-06\n",
      "1.613069523333166e-05 6.735710125484868e-06\n",
      "2000\n",
      "7.599603211312989e-06 4.692871968161819e-07\n",
      "1.7410736040655973e-05 1.6090511372305154e-06\n",
      "3000\n",
      "6.7863564793307724e-06 -8.245534517277406e-06\n",
      "1.8385953696640924e-07 -1.4791307978618214e-05\n",
      "6.539419254649545e-06 -8.398362919640214e-06\n",
      "5.183204184992249e-06 -9.840347603495601e-06\n",
      "0.00011017182631366487 8.478315529860482e-05\n",
      "0.00029003636035089075 0.00025792367184778906\n",
      "0.00021173946604132076 0.00018175500524312638\n",
      "9.598906941519829e-06 -1.5948452813971842e-05\n",
      "2.9295154161278815e-05 5.738396570532318e-06\n",
      "4000\n",
      "1.2988613856303249e-05 -2.3002704488854298e-05\n",
      "5.153155362829708e-07 -3.4134790938720384e-05\n",
      "6.95314651324665e-06 -2.599134353952719e-05\n",
      "7.230974398329008e-05 3.142046413636326e-05\n",
      "1.1184995348645991e-05 -3.377629289891347e-05\n",
      "2.609302454846603e-06 -6.067683984894022e-05\n",
      "5.5387837201620804e-05 -1.715991283348769e-05\n",
      "0.0006126900958589158 0.0005363879104415561\n",
      "0.000174002263777748 9.762328452032837e-05\n",
      "6.609958363029826e-05 -1.2078686665937532e-05\n",
      "**TURN** 4\n",
      "0\n",
      "3.300189673067854e-05 3.0265693587428833e-05\n",
      "4.874984410646987e-06 2.123522083375381e-06\n",
      "2.7431156667906975e-05 2.21164641186548e-05\n",
      "3.137321886291365e-05 2.458866669612946e-05\n",
      "7.056138076836488e-05 6.315165652929403e-05\n",
      "3.653617166804094e-05 2.8553785394303293e-05\n",
      "2.8793211530164868e-05 2.1654672976452536e-05\n",
      "2.8620681000030148e-05 2.1488833478811306e-05\n",
      "1000\n",
      "1.9364296619551615e-06 -4.5904884170760815e-06\n",
      "2.1738193628946857e-06 -3.7626331592225735e-06\n",
      "1.8671675202569084e-07 -5.211741861671243e-06\n",
      "1.1121202394082977e-05 5.9841809354167624e-06\n",
      "9.478559875505419e-09 -4.971586938927965e-06\n",
      "7.177814906947406e-07 -8.071711171005546e-06\n",
      "2.811674923680225e-06 -6.104239898175399e-06\n",
      "1.2770297208679564e-05 1.5834157205376586e-06\n",
      "5.300266750200994e-08 -1.1203048878931033e-05\n",
      "2000\n",
      "3.155020384879665e-05 2.0931137425243047e-05\n",
      "1.3589834289534143e-05 6.805252744288812e-07\n",
      "1.679947834661287e-07 -1.6980778015578544e-05\n",
      "2.1677918511006395e-05 3.900589381694911e-06\n",
      "3000\n",
      "4.339576307842223e-07 -1.8148169665776755e-05\n",
      "1.8068564989495061e-06 -2.9989281523768145e-05\n",
      "6.2400295308855955e-06 -2.5217439425492354e-05\n",
      "1.4419763287780097e-06 -2.8899792788116167e-05\n",
      "3.682421726962186e-06 -2.5317113276885025e-05\n",
      "4000\n",
      "8.630552870298341e-08 -2.5499260840495465e-05\n",
      "8.44678124050668e-09 -2.5025405826384123e-05\n",
      "7.465854837300017e-08 -2.5273370065171757e-05\n",
      "3.652572356613244e-08 -2.4966341879760055e-05\n",
      "1.377101545289007e-07 -2.6787863642929212e-05\n",
      "5.294040672634389e-06 -2.432478892381419e-05\n"
     ]
    },
    {
     "name": "stdout",
     "output_type": "stream",
     "text": [
      "1.2388577642664493e-05 -2.2909366686045352e-05\n",
      "**TURN** 5\n",
      "0\n",
      "1.3545874064750906e-06 9.527439873835488e-07\n",
      "6.383444005630508e-08 -4.566964920455222e-07\n",
      "2.6841719795166697e-09 -5.219423577359847e-07\n",
      "4.7066986066983147e-07 -1.1217831271043359e-07\n",
      "5.098138541647119e-06 4.4498699167581835e-06\n",
      "1.1039567896030972e-06 -6.668044514580683e-07\n",
      "2.719088341201793e-07 -1.8156069902655198e-06\n",
      "2.6926971209385652e-05 2.366808010495717e-05\n",
      "6.063893523224013e-06 2.6629221724791745e-06\n",
      "3.447737188250039e-05 2.2730317835057265e-05\n",
      "3.21767893673619e-05 2.04135358538503e-05\n",
      "6.457260031847431e-05 5.2454657418017787e-05\n",
      "1.4879357717218984e-05 1.4845505141418763e-06\n",
      "6.564926740532887e-05 5.412344858549618e-05\n",
      "7.367003956483546e-06 -2.4102915192278145e-06\n",
      "1000\n",
      "4.308584420775361e-08 -9.299927916691969e-06\n",
      "1.5199889619073795e-06 -4.500420233754335e-06\n",
      "1.4723864838855878e-06 -4.518053498807763e-06\n",
      "9.812645138653521e-08 -5.873539927899638e-06\n",
      "1.1817623575143257e-08 -8.30339867565518e-06\n",
      "2000\n",
      "1.5521871744686832e-05 7.304997718209787e-06\n",
      "4.341602763100675e-06 -3.909569722064971e-06\n",
      "3.7518041303973084e-07 -7.2395025472931944e-06\n",
      "2.4538854428116857e-06 -5.14931132262706e-06\n",
      "3000\n",
      "2.5215727103317505e-05 1.375806657142743e-05\n",
      "1.2499127838546803e-07 -9.091571360467644e-06\n",
      "3.026589879775983e-07 -1.5232463463251283e-05\n",
      "4000\n",
      "1.87504262319009e-07 -1.304503641283877e-05\n",
      "5.403439846754534e-07 -1.5176222308028845e-05\n",
      "1.4859608713620218e-06 -1.493299476295032e-05\n",
      "3.2288451761241863e-06 -2.3172494887915235e-05\n",
      "2.5272278220890894e-05 -3.7192368033303993e-06\n",
      "**TURN** 6\n",
      "0\n",
      "1.1530244705605225e-07 5.531209763728814e-08\n",
      "1.2677754422916723e-09 -5.127065215125635e-07\n",
      "1.0585198452804914e-06 -2.906054633272316e-06\n",
      "8.953164888384817e-06 4.5099286850969315e-06\n",
      "2.3069176437130057e-09 -9.661108886035816e-06\n",
      "1.20606999380063e-07 -8.958832749595172e-06\n",
      "9.419065118940783e-06 1.8581148399125503e-06\n",
      "1000\n",
      "2.766357060910098e-06 -3.4855827636615687e-06\n",
      "2.137070727579713e-06 -4.258163389588774e-06\n",
      "1.4675097094761262e-05 7.826653942323482e-06\n",
      "3.9167044322582764e-07 -4.682988587479944e-06\n",
      "6.052099295028305e-06 1.3226480716490647e-06\n",
      "2.2427377695470965e-05 1.7535686822875995e-05\n",
      "2000\n",
      "4.864535188679147e-06 -1.0600790063945163e-06\n",
      "1.3949785645880173e-05 9.072578016758193e-06\n",
      "3.244540247011211e-09 -4.931733308779367e-06\n",
      "5.362804998661956e-05 4.070450299462271e-05\n",
      "1.7971139696234716e-06 -1.7167141301803805e-05\n",
      "4.357694059606145e-05 2.435657725634017e-05\n",
      "1.8074149069410106e-08 -1.8747728570933136e-05\n",
      "3000\n",
      "7.0423374979850885e-09 -1.747042528811864e-05\n",
      "3.824293746080255e-08 -1.7695963310975096e-05\n",
      "3.640689292068639e-05 1.083895249996816e-05\n",
      "5.315551964990357e-10 -2.564415772465165e-05\n",
      "7.365133605213953e-07 -2.4658267750718715e-05\n",
      "4.6445317986015333e-05 2.1533942167012002e-05\n",
      "3.277433557230901e-07 -2.3063525903614398e-05\n",
      "2.579758518299224e-08 -2.333314455525637e-05\n",
      "4000\n",
      "5.632332777230048e-10 -2.297082439826413e-05\n",
      "1.3528815846462497e-05 -9.423359329132473e-06\n",
      "5.78177553158712e-06 -3.947199524333006e-05\n",
      "5.088411709750686e-05 7.070430110835841e-06\n",
      "9.285054247571566e-07 -4.1549546496187806e-05\n",
      "**TURN** 7\n",
      "0\n",
      "1.2955420202849858e-06 -2.53556118101403e-06\n",
      "8.000879870262949e-06 -2.793800850050448e-07\n",
      "4.7804025652895584e-05 3.965773261214651e-05\n",
      "5.189445532850371e-06 -1.2561107771519342e-06\n",
      "1.975680727771758e-07 -5.320422647164957e-06\n",
      "1000\n",
      "5.020695022318289e-06 1.063978891724342e-06\n",
      "8.686915895875624e-06 4.914155267501253e-06\n",
      "2.008073394667046e-08 -3.850966880999449e-06\n",
      "6.4086216320153995e-06 2.581280465640467e-06\n",
      "4.05829808227855e-07 -3.2158374224663926e-06\n",
      "2.775359938892537e-07 -3.0453442958444166e-06\n",
      "2.6058290656245495e-07 -3.055571842482039e-06\n",
      "2.2330557157418056e-07 -3.272886760741928e-06\n",
      "7.168068910953139e-06 2.34448708975847e-06\n",
      "4.726457791285417e-05 4.05707338576106e-05\n",
      "2000\n",
      "8.366502549796054e-08 -4.352981834387336e-06\n",
      "4.8502895513373045e-06 9.271884283370337e-07\n",
      "3.440255587934117e-05 2.458384794214583e-05\n",
      "1.1379002201564152e-05 1.4915558722362937e-06\n",
      "6.433445625220444e-06 -3.5435720530720897e-06\n",
      "3000\n",
      "2.8589123669216124e-07 -2.2306450340894248e-05\n",
      "3.64839027092864e-05 1.3873395927368711e-05\n",
      "0.00014588830130885197 0.00012132047012185979\n",
      "4000\n",
      "3.945569128779302e-06 -3.029905315648068e-05\n",
      "1.3185335458053028e-07 -3.487195407214402e-05\n",
      "1.4536829137833606e-05 -2.1167680698828293e-05\n",
      "3.4827147265973996e-05 -7.963982869749515e-07\n",
      "1.861598072825944e-05 -2.287715961117027e-05\n",
      "1.0727150766744552e-05 -4.614573812371532e-05\n",
      "1.8570901033828502e-05 -3.784607141261289e-05\n",
      "**TURN** 8\n",
      "0\n",
      "2.851739346965458e-08 -1.6843864778953913e-08\n",
      "3.310357832405953e-07 2.7438602773177294e-07\n",
      "8.136971680764706e-08 -2.066862421908638e-08\n",
      "7.755279142370625e-07 -8.842460945620974e-07\n",
      "7.015549925502044e-05 6.380153829237826e-05\n",
      "1.0519039646685924e-05 5.41122859001076e-06\n",
      "2.0609572389168068e-07 -4.85392414701108e-06\n",
      "1000\n",
      "3.371711072850071e-07 -3.61838683160956e-06\n",
      "1.019098117256123e-07 -6.916966405041468e-06\n",
      "5.216545895838145e-06 -1.5529594036760411e-06\n",
      "2.612943228756733e-06 -4.129296424319137e-06\n",
      "2000\n",
      "5.058367218653536e-07 -5.70937432512962e-06\n",
      "2.2620088474016224e-09 -6.112513310342322e-06\n",
      "1.284782266289091e-06 -6.143405810364751e-06\n",
      "1.624149991602162e-05 2.8107115195292033e-06\n",
      "2.717433510912866e-06 -1.1262477791439703e-05\n",
      "2.755049228740854e-06 -1.111296025838916e-05\n",
      "2.4648358060159227e-06 -1.1533060558667387e-05\n",
      "2.293358370225798e-06 -1.1608090065132606e-05\n",
      "8.549849007226783e-06 -4.7719775401166e-06\n",
      "3000\n",
      "6.672832669407484e-06 -1.9891997941143177e-05\n",
      "6.723291627374992e-05 3.798210501174926e-05\n",
      "2.095067709335266e-05 -6.422549638024419e-06\n",
      "1.722937248470526e-06 -2.347675881541203e-05\n",
      "4000\n",
      "4.871538211783513e-06 -2.211431956303501e-05\n",
      "7.720068791955138e-05 4.7820652346880046e-05\n",
      "1.0087830380736969e-05 -2.3117307727991637e-05\n",
      "7.838151222208983e-07 -3.237920368729465e-05\n",
      "2.646337527675532e-06 -4.795670252009981e-05\n",
      "2.0178943567529563e-05 -3.1998648204961685e-05\n",
      "1.5467904063649195e-05 -4.1128615884395244e-05\n",
      "1.3886945957729153e-05 -4.28316903287138e-05\n",
      "**TURN** 9\n",
      "0\n",
      "4.1333195976382813e-07 -9.870915424575159e-08\n",
      "4.155338153966569e-06 3.612025691025502e-06\n",
      "2.469746994128896e-06 1.3184411406974265e-06\n",
      "4.4269549328380065e-05 3.6168231539456645e-05\n",
      "1.9821337872553505e-05 1.1007385205960718e-05\n",
      "6.171928796567468e-06 -1.066418784134885e-06\n",
      "1.898835608298405e-06 -5.281272451895284e-06\n",
      "1000\n",
      "2.2066255993713934e-06 -3.426479269644192e-06\n",
      "6.483332410428157e-06 5.511464433773512e-07\n",
      "1.582003441109705e-08 -4.553880829378143e-06\n",
      "3.178910984216818e-06 -1.3502367059934429e-06\n",
      "1.8549430593736109e-09 -4.51432672372925e-06\n",
      "2.062865169046099e-07 -4.3104125687127055e-06\n",
      "5.8007533311144956e-05 4.7147422008319905e-05\n",
      "2000\n",
      "8.000605014796838e-06 -6.851152768581184e-07\n",
      "1.2463363490160116e-08 -8.024519919641619e-06\n",
      "3.139459097908514e-05 1.6260231901585293e-05\n",
      "1.682600331143989e-05 6.411739919889915e-07\n",
      "1.8655219570375876e-06 -1.2075575492978293e-05\n",
      "3000\n",
      "1.1645967970633436e-08 -1.3240954753936115e-05\n",
      "2.771918582184481e-06 -1.011254487831611e-05\n",
      "2.092792862214789e-06 -1.1113832681020062e-05\n",
      "1.2615856386881898e-06 -2.1765998824181444e-05\n",
      "0.0001340551744402204 0.00010772067745833428\n",
      "1.4733082951410776e-05 -9.51957162314905e-06\n",
      "4000\n",
      "4.523938443969627e-07 -2.0810549509629537e-05\n",
      "1.542718984213428e-05 -5.690299358720482e-06\n",
      "8.718468289262616e-09 -2.317483899770052e-05\n",
      "4.001315086351047e-06 -2.4035271541989028e-05\n",
      "1.2973667676502125e-05 -1.748515895138013e-05\n",
      "2.309275153049389e-05 -1.3890343620719776e-05\n",
      "5.108718299675524e-06 -3.630811176191752e-05\n",
      "4.395468621094984e-06 -3.765982673553157e-05\n"
     ]
    }
   ],
   "source": [
    "for turn, BETA in enumerate(BETA_range):\n",
    "    print('**TURN**', turn)\n",
    "     \n",
    "    agent = Agent(env,\n",
    "                  ALPHA=args.ALPHA,\n",
    "                  GAMMA=args.GAMMA, # Episodic agent!\n",
    "                  BETA=BETA, \n",
    "                  PREC=args.PREC,\n",
    "                  do_reward=args.do_reward) \n",
    "    trainer = CCA_OnlineTrainer( agent, \n",
    "                            augmentation=args.augmentation,\n",
    "                            OBS_LEAK=args.OBS_LEAK,\n",
    "                            ref_prob='unif',\n",
    "                            KL_centering=args.KL_centering,\n",
    "                            rtg_centering=args.rtg_centering,\n",
    "                            monte_carlo=args.monte_carlo,\n",
    "                            explo_drive=args.explo_drive) \n",
    "    \n",
    "    \n",
    "    mem_total_reward_T2.append(np.zeros(N))\n",
    "    \n",
    "    mem_obs_final_T2.append(None)\n",
    "        \n",
    "    for trial in range(N):\n",
    "        trainer.run_episode(verbose=verbose)\n",
    "\n",
    "        if trial%1000 == 0:\n",
    "            print(trial)\n",
    "            \n",
    "        mem_total_reward_T2[turn][trial] = trainer.total_reward\n",
    "        \n",
    "    mem_obs_final_T2[turn] = trainer.mem_obs_final\n",
    "    "
   ]
  },
  {
   "cell_type": "markdown",
   "metadata": {},
   "source": [
    "#### Q-learning trainer (for comparison)"
   ]
  },
  {
   "cell_type": "code",
   "execution_count": 40,
   "metadata": {},
   "outputs": [],
   "source": [
    "BETA_range = [1] * 10\n",
    "\n",
    "mem_total_reward_T2_Q = []\n",
    "mem_obs_final_T2_Q = []"
   ]
  },
  {
   "cell_type": "code",
   "execution_count": 41,
   "metadata": {
    "scrolled": true
   },
   "outputs": [
    {
     "name": "stdout",
     "output_type": "stream",
     "text": [
      "**TURN** 0\n",
      "0\n",
      "1000\n",
      "2000\n",
      "3000\n",
      "4000\n",
      "**TURN** 1\n",
      "0\n",
      "1000\n",
      "2000\n",
      "3000\n",
      "4000\n",
      "**TURN** 2\n",
      "0\n",
      "1000\n",
      "2000\n",
      "3000\n",
      "4000\n",
      "**TURN** 3\n",
      "0\n",
      "1000\n",
      "2000\n",
      "3000\n",
      "4000\n",
      "**TURN** 4\n",
      "0\n",
      "1000\n",
      "2000\n",
      "3000\n",
      "4000\n",
      "**TURN** 5\n",
      "0\n",
      "1000\n",
      "2000\n",
      "3000\n",
      "4000\n",
      "**TURN** 6\n",
      "0\n",
      "1000\n",
      "2000\n",
      "3000\n",
      "4000\n",
      "**TURN** 7\n",
      "0\n",
      "1000\n",
      "2000\n",
      "3000\n",
      "4000\n",
      "**TURN** 8\n",
      "0\n",
      "1000\n",
      "2000\n",
      "3000\n",
      "4000\n",
      "**TURN** 9\n",
      "0\n",
      "1000\n",
      "2000\n",
      "3000\n",
      "4000\n"
     ]
    }
   ],
   "source": [
    "for turn, BETA in enumerate(BETA_range):\n",
    "    print('**TURN**', turn)\n",
    "    \n",
    "    agent_Q = Agent(env,\n",
    "                    ALPHA=args.ALPHA,\n",
    "                    GAMMA=args.GAMMA, # Episodic agent!\n",
    "                    do_reward=args.do_reward,\n",
    "                    offPolicy=True) \n",
    "    trainer_Q = QL_OnlineTrainer( agent_Q,\n",
    "                            monte_carlo=args.monte_carlo,\n",
    "                            rtg_centering=args.rtg_centering) \n",
    "    \n",
    "    mem_total_reward_T2_Q.append(np.zeros(N))\n",
    "    \n",
    "    mem_obs_final_T2_Q.append(None)\n",
    "        \n",
    "    for trial in range(N):\n",
    "        trainer_Q.run_episode(verbose=verbose)\n",
    "\n",
    "        if trial%1000 == 0:\n",
    "            print(trial)\n",
    "            \n",
    "        mem_total_reward_T2_Q[turn][trial] = trainer_Q.total_reward\n",
    "        \n",
    "    mem_obs_final_T2_Q[turn] = trainer_Q.mem_obs_final\n",
    "    "
   ]
  },
  {
   "cell_type": "code",
   "execution_count": 42,
   "metadata": {},
   "outputs": [],
   "source": [
    "cumsum_total_reward_T2 = np.cumsum(mem_total_reward_T2, axis=1)\n",
    "mean_total_reward_T2 = np.mean(cumsum_total_reward_T2, axis=0)\n",
    "std_total_reward_T2 = np.std(cumsum_total_reward_T2, axis=0)\n",
    "cumsum_total_reward_T2_Q = np.cumsum(mem_total_reward_T2_Q, axis=1)\n",
    "mean_total_reward_T2_Q = np.mean(cumsum_total_reward_T2_Q, axis=0)\n",
    "std_total_reward_T2_Q = np.std(cumsum_total_reward_T2_Q, axis=0)"
   ]
  },
  {
   "cell_type": "code",
   "execution_count": 43,
   "metadata": {},
   "outputs": [
    {
     "data": {
      "text/plain": [
       "Text(0.5, 1.0, 'Reward cumsum')"
      ]
     },
     "execution_count": 43,
     "metadata": {},
     "output_type": "execute_result"
    },
    {
     "data": {
      "image/png": "[encoded data removed]",
      "text/plain": [
       "<Figure size 576x288 with 3 Axes>"
      ]
     },
     "metadata": {
      "needs_background": "light"
     },
     "output_type": "display_data"
    }
   ],
   "source": [
    "plt.figure(figsize = (8,4))\n",
    "\n",
    "\n",
    "ax = plt.subplot(2,2,1)\n",
    "ax.plot(np.array(mem_obs_final_T2[0])+1, '.', alpha=.5)\n",
    "ax.set_xlim(0,5000)\n",
    "ax.set_ylim(0,19)\n",
    "ax.set_yticks([2,4,6,8,10,12,14,16,18])\n",
    "ax.set_xticks([])\n",
    "ax.set_ylabel('Final state', fontsize=14)\n",
    "\n",
    "ax.set_title('States', fontsize=14)\n",
    "ax.set_title(f'CCA, $\\lambda={args.PREC}$, $\\\\beta=${BETA_REF}')\n",
    "ax.yaxis.tick_right()\n",
    "ax.text(-700, 17.5, 'a', fontsize=16, fontweight =\"bold\")\n",
    "\n",
    "\n",
    "\n",
    "ax = plt.subplot(2,2,3)\n",
    "ax.plot(np.array(mem_obs_final_T2_Q[0])+1, '.', alpha=.5)\n",
    "ax.set_xlim(0,5000)\n",
    "ax.set_ylim(0,19)\n",
    "ax.set_yticks([2,4,6,8,10,12,14,16,18])\n",
    "ax.set_xticks([1, 5000])\n",
    "ax.text(2250, -3, 'trial #', fontsize=12)    \n",
    "ax.set_ylabel('Final state', fontsize=14)\n",
    "\n",
    "ax.set_title('States', fontsize=14)\n",
    "ax.set_title('Q-learning, $\\epsilon=0.1$')\n",
    "ax.yaxis.tick_right()\n",
    "ax.text(-700, 17.5, 'b', fontsize=16, fontweight =\"bold\")\n",
    "\n",
    "\n",
    "\n",
    "ax = plt.subplot(1,2,2)\n",
    "\n",
    "ax.plot(mean_total_reward_T2, 'b', linewidth=3, label='CCA')\n",
    "ax.fill_between(range(5000),\n",
    "                 mean_total_reward_T2-std_total_reward_T2,\n",
    "                 mean_total_reward_T2+std_total_reward_T2,\n",
    "                 alpha=.2)\n",
    "ax.plot(mean_total_reward_T2_Q,'r', linewidth=3, label='Q-learning')\n",
    "ax.fill_between(range(5000),\n",
    "                 mean_total_reward_T2_Q-std_total_reward_T2_Q,\n",
    "                 mean_total_reward_T2_Q+std_total_reward_T2_Q,\n",
    "                 alpha=.2)\n",
    "\n",
    "for turn, BETA in enumerate(BETA_range):\n",
    "    ax.plot(np.cumsum(mem_total_reward_T2[turn]),'b', alpha=.3)\n",
    "    \n",
    "for turn, BETA in enumerate(BETA_range):\n",
    "    ax.plot(np.cumsum(mem_total_reward_T2_Q[turn]),'r', alpha=.3)\n",
    "ax.legend()\n",
    "ax.yaxis.tick_right()\n",
    "ax.text(-700, 4800, 'c', fontsize=16, fontweight =\"bold\")\n",
    "\n",
    "ax.set_title('Reward cumsum')\n",
    "\n",
    "#plt.savefig('220520_cca_T2.pdf', bbox_inches='tight')"
   ]
  },
  {
   "cell_type": "code",
   "execution_count": 44,
   "metadata": {},
   "outputs": [
    {
     "data": {
      "text/plain": [
       "[<matplotlib.lines.Line2D at 0x7feaa0bf22b0>,\n",
       " <matplotlib.lines.Line2D at 0x7feaa0bf2400>,\n",
       " <matplotlib.lines.Line2D at 0x7feaa0bf2550>,\n",
       " <matplotlib.lines.Line2D at 0x7feaa0bf26a0>]"
      ]
     },
     "execution_count": 44,
     "metadata": {},
     "output_type": "execute_result"
    },
    {
     "data": {
      "image/png": "[encoded data removed]",
      "text/plain": [
       "<Figure size 432x288 with 1 Axes>"
      ]
     },
     "metadata": {
      "needs_background": "light"
     },
     "output_type": "display_data"
    }
   ],
   "source": [
    "plt.plot(trainer.agent.Q_var_tab)\n"
   ]
  },
  {
   "cell_type": "code",
   "execution_count": null,
   "metadata": {},
   "outputs": [],
   "source": []
  }
 ],
 "metadata": {
  "kernelspec": {
   "display_name": "Python 3",
   "language": "python",
   "name": "python3"
  },
  "language_info": {
   "codemirror_mode": {
    "name": "ipython",
    "version": 3
   },
   "file_extension": ".py",
   "mimetype": "text/x-python",
   "name": "python",
   "nbconvert_exporter": "python",
   "pygments_lexer": "ipython3",
   "version": "3.7.3"
  }
 },
 "nbformat": 4,
 "nbformat_minor": 2
}
